{
  "nbformat": 4,
  "nbformat_minor": 0,
  "metadata": {
    "colab": {
      "name": "frequency_or_count_encoding_categorical.ipynb",
      "provenance": [],
      "collapsed_sections": [],
      "mount_file_id": "1hfZjbzQ81tPtehSLw8ETCSH_updvUNgg",
      "authorship_tag": "ABX9TyP9fhfaebsvSaOylQ+7V4bi"
    },
    "kernelspec": {
      "name": "python3",
      "display_name": "Python 3"
    },
    "language_info": {
      "name": "python"
    }
  },
  "cells": [
    {
      "cell_type": "markdown",
      "metadata": {
        "id": "rPlW_5chR8am"
      },
      "source": [
        "#Frequency or Count Encoding for Nominal categorical Feature\n",
        "\n",
        "\n"
      ]
    },
    {
      "cell_type": "markdown",
      "metadata": {
        "id": "Mfq9kcBM9YZd"
      },
      "source": [
        "It is a way to utilize the frequency of the categories as labels. In the cases where the frequency is related somewhat with the target variable, it helps the model to understand and assign the weight in direct and inverse proportion, depending on the nature of the data. Three-step for this :\n",
        "\n",
        "1)Select a categorical variable you would like to transform.\n",
        "\n",
        "2)Obtain counts of each category.\n",
        "\n",
        "3)Join it back with the training dataset."
      ]
    },
    {
      "cell_type": "code",
      "metadata": {
        "id": "YBn3yjAI-GSD"
      },
      "source": [
        "import pandas as pd\n",
        "import numpy as np"
      ],
      "execution_count": 1,
      "outputs": []
    },
    {
      "cell_type": "code",
      "metadata": {
        "id": "3GjEoFSv-IK3"
      },
      "source": [
        "\n",
        "df=pd.read_csv('/content/drive/MyDrive/datasets/mercedesbenz.csv',usecols=[\"X1\",\"X2\"])"
      ],
      "execution_count": 3,
      "outputs": []
    },
    {
      "cell_type": "code",
      "metadata": {
        "colab": {
          "base_uri": "https://localhost:8080/",
          "height": 204
        },
        "id": "fdaKdFcR-XOn",
        "outputId": "171a9a8c-c61c-4f20-f5b9-c173ebbfdb30"
      },
      "source": [
        "df.head()"
      ],
      "execution_count": 4,
      "outputs": [
        {
          "output_type": "execute_result",
          "data": {
            "text/html": [
              "<div>\n",
              "<style scoped>\n",
              "    .dataframe tbody tr th:only-of-type {\n",
              "        vertical-align: middle;\n",
              "    }\n",
              "\n",
              "    .dataframe tbody tr th {\n",
              "        vertical-align: top;\n",
              "    }\n",
              "\n",
              "    .dataframe thead th {\n",
              "        text-align: right;\n",
              "    }\n",
              "</style>\n",
              "<table border=\"1\" class=\"dataframe\">\n",
              "  <thead>\n",
              "    <tr style=\"text-align: right;\">\n",
              "      <th></th>\n",
              "      <th>X1</th>\n",
              "      <th>X2</th>\n",
              "    </tr>\n",
              "  </thead>\n",
              "  <tbody>\n",
              "    <tr>\n",
              "      <th>0</th>\n",
              "      <td>v</td>\n",
              "      <td>at</td>\n",
              "    </tr>\n",
              "    <tr>\n",
              "      <th>1</th>\n",
              "      <td>t</td>\n",
              "      <td>av</td>\n",
              "    </tr>\n",
              "    <tr>\n",
              "      <th>2</th>\n",
              "      <td>w</td>\n",
              "      <td>n</td>\n",
              "    </tr>\n",
              "    <tr>\n",
              "      <th>3</th>\n",
              "      <td>t</td>\n",
              "      <td>n</td>\n",
              "    </tr>\n",
              "    <tr>\n",
              "      <th>4</th>\n",
              "      <td>v</td>\n",
              "      <td>n</td>\n",
              "    </tr>\n",
              "  </tbody>\n",
              "</table>\n",
              "</div>"
            ],
            "text/plain": [
              "  X1  X2\n",
              "0  v  at\n",
              "1  t  av\n",
              "2  w   n\n",
              "3  t   n\n",
              "4  v   n"
            ]
          },
          "metadata": {
            "tags": []
          },
          "execution_count": 4
        }
      ]
    },
    {
      "cell_type": "code",
      "metadata": {
        "colab": {
          "base_uri": "https://localhost:8080/"
        },
        "id": "3enQ0kFs-pWD",
        "outputId": "d3c0d3d1-4dbc-4641-845d-490b9319e93b"
      },
      "source": [
        "df.shape"
      ],
      "execution_count": 7,
      "outputs": [
        {
          "output_type": "execute_result",
          "data": {
            "text/plain": [
              "(4209, 2)"
            ]
          },
          "metadata": {
            "tags": []
          },
          "execution_count": 7
        }
      ]
    },
    {
      "cell_type": "code",
      "metadata": {
        "colab": {
          "base_uri": "https://localhost:8080/"
        },
        "id": "JEqaaNpA-rXo",
        "outputId": "6b712c8d-f818-491a-fd64-ab8a65945837"
      },
      "source": [
        "#onehotencoding\n",
        "pd.get_dummies(df).shape"
      ],
      "execution_count": 8,
      "outputs": [
        {
          "output_type": "execute_result",
          "data": {
            "text/plain": [
              "(4209, 71)"
            ]
          },
          "metadata": {
            "tags": []
          },
          "execution_count": 8
        }
      ]
    },
    {
      "cell_type": "code",
      "metadata": {
        "colab": {
          "base_uri": "https://localhost:8080/"
        },
        "id": "11HH0MKa-3At",
        "outputId": "3a6e853a-c92c-4d3a-8bd1-5e6e50619bb9"
      },
      "source": [
        "len(df['X1'].unique())"
      ],
      "execution_count": 9,
      "outputs": [
        {
          "output_type": "execute_result",
          "data": {
            "text/plain": [
              "27"
            ]
          },
          "metadata": {
            "tags": []
          },
          "execution_count": 9
        }
      ]
    },
    {
      "cell_type": "code",
      "metadata": {
        "colab": {
          "base_uri": "https://localhost:8080/"
        },
        "id": "ry7vNZd1_HcC",
        "outputId": "3b90c109-82bc-410d-d8b2-3d5b7adebde1"
      },
      "source": [
        "len(df['X2'].unique())"
      ],
      "execution_count": 10,
      "outputs": [
        {
          "output_type": "execute_result",
          "data": {
            "text/plain": [
              "44"
            ]
          },
          "metadata": {
            "tags": []
          },
          "execution_count": 10
        }
      ]
    },
    {
      "cell_type": "code",
      "metadata": {
        "colab": {
          "base_uri": "https://localhost:8080/"
        },
        "id": "VrZxxSua-hKk",
        "outputId": "b49e180e-673c-4934-eaaa-e1be8c7842ab"
      },
      "source": [
        "for i in df.columns:\n",
        "  print(i,':',len(df[i].unique()))"
      ],
      "execution_count": 11,
      "outputs": [
        {
          "output_type": "stream",
          "text": [
            "X1 : 27\n",
            "X2 : 44\n"
          ],
          "name": "stdout"
        }
      ]
    },
    {
      "cell_type": "code",
      "metadata": {
        "colab": {
          "base_uri": "https://localhost:8080/"
        },
        "id": "wqG5OfDS_Z5k",
        "outputId": "29ec7358-1423-4eda-9e03-44d4943ed78c"
      },
      "source": [
        "df['X2'].value_counts().to_dict()"
      ],
      "execution_count": 13,
      "outputs": [
        {
          "output_type": "execute_result",
          "data": {
            "text/plain": [
              "{'a': 47,\n",
              " 'aa': 1,\n",
              " 'ac': 13,\n",
              " 'ae': 496,\n",
              " 'af': 1,\n",
              " 'ag': 19,\n",
              " 'ah': 4,\n",
              " 'ai': 415,\n",
              " 'ak': 265,\n",
              " 'al': 5,\n",
              " 'am': 1,\n",
              " 'an': 5,\n",
              " 'ao': 20,\n",
              " 'ap': 11,\n",
              " 'aq': 63,\n",
              " 'ar': 1,\n",
              " 'as': 1659,\n",
              " 'at': 6,\n",
              " 'au': 3,\n",
              " 'av': 4,\n",
              " 'aw': 8,\n",
              " 'ay': 54,\n",
              " 'b': 21,\n",
              " 'c': 1,\n",
              " 'd': 18,\n",
              " 'e': 81,\n",
              " 'f': 87,\n",
              " 'g': 12,\n",
              " 'h': 6,\n",
              " 'i': 25,\n",
              " 'j': 1,\n",
              " 'k': 25,\n",
              " 'l': 1,\n",
              " 'm': 367,\n",
              " 'n': 137,\n",
              " 'o': 1,\n",
              " 'p': 4,\n",
              " 'q': 5,\n",
              " 'r': 153,\n",
              " 's': 94,\n",
              " 't': 29,\n",
              " 'x': 10,\n",
              " 'y': 11,\n",
              " 'z': 19}"
            ]
          },
          "metadata": {
            "tags": []
          },
          "execution_count": 13
        }
      ]
    },
    {
      "cell_type": "code",
      "metadata": {
        "id": "HLGfYvPmOsmV"
      },
      "source": [
        "df_freq_map =df['X2'].value_counts().to_dict()"
      ],
      "execution_count": 14,
      "outputs": []
    },
    {
      "cell_type": "code",
      "metadata": {
        "id": "wHAvRBaUO9wc"
      },
      "source": [
        "df['X2'] = df['X2'].map(df_freq_map)"
      ],
      "execution_count": 15,
      "outputs": []
    },
    {
      "cell_type": "code",
      "metadata": {
        "colab": {
          "base_uri": "https://localhost:8080/",
          "height": 204
        },
        "id": "pMK1pGBhPHhj",
        "outputId": "41f7b21c-c695-45e0-e2bb-4ce75c10e22d"
      },
      "source": [
        "df.head()"
      ],
      "execution_count": 16,
      "outputs": [
        {
          "output_type": "execute_result",
          "data": {
            "text/html": [
              "<div>\n",
              "<style scoped>\n",
              "    .dataframe tbody tr th:only-of-type {\n",
              "        vertical-align: middle;\n",
              "    }\n",
              "\n",
              "    .dataframe tbody tr th {\n",
              "        vertical-align: top;\n",
              "    }\n",
              "\n",
              "    .dataframe thead th {\n",
              "        text-align: right;\n",
              "    }\n",
              "</style>\n",
              "<table border=\"1\" class=\"dataframe\">\n",
              "  <thead>\n",
              "    <tr style=\"text-align: right;\">\n",
              "      <th></th>\n",
              "      <th>X1</th>\n",
              "      <th>X2</th>\n",
              "    </tr>\n",
              "  </thead>\n",
              "  <tbody>\n",
              "    <tr>\n",
              "      <th>0</th>\n",
              "      <td>v</td>\n",
              "      <td>6</td>\n",
              "    </tr>\n",
              "    <tr>\n",
              "      <th>1</th>\n",
              "      <td>t</td>\n",
              "      <td>4</td>\n",
              "    </tr>\n",
              "    <tr>\n",
              "      <th>2</th>\n",
              "      <td>w</td>\n",
              "      <td>137</td>\n",
              "    </tr>\n",
              "    <tr>\n",
              "      <th>3</th>\n",
              "      <td>t</td>\n",
              "      <td>137</td>\n",
              "    </tr>\n",
              "    <tr>\n",
              "      <th>4</th>\n",
              "      <td>v</td>\n",
              "      <td>137</td>\n",
              "    </tr>\n",
              "  </tbody>\n",
              "</table>\n",
              "</div>"
            ],
            "text/plain": [
              "  X1   X2\n",
              "0  v    6\n",
              "1  t    4\n",
              "2  w  137\n",
              "3  t  137\n",
              "4  v  137"
            ]
          },
          "metadata": {
            "tags": []
          },
          "execution_count": 16
        }
      ]
    },
    {
      "cell_type": "markdown",
      "metadata": {
        "id": "D6bgw7LeRqMg"
      },
      "source": [
        "**#Another way of using FREQUENCY encoding**"
      ]
    },
    {
      "cell_type": "code",
      "metadata": {
        "id": "HvqTuEcuPIuD"
      },
      "source": [
        "freq = df.groupby('X1').size()/len(df)"
      ],
      "execution_count": 21,
      "outputs": []
    },
    {
      "cell_type": "code",
      "metadata": {
        "colab": {
          "base_uri": "https://localhost:8080/"
        },
        "id": "9vrQMYPqPsWb",
        "outputId": "ac5f8746-35a4-4ce9-980a-bae5e1cff592"
      },
      "source": [
        "freq.head()"
      ],
      "execution_count": 22,
      "outputs": [
        {
          "output_type": "execute_result",
          "data": {
            "text/plain": [
              "X1\n",
              "a     0.033975\n",
              "aa    0.197909\n",
              "ab    0.000713\n",
              "b     0.140651\n",
              "c     0.028748\n",
              "dtype: float64"
            ]
          },
          "metadata": {
            "tags": []
          },
          "execution_count": 22
        }
      ]
    },
    {
      "cell_type": "code",
      "metadata": {
        "id": "7bc1_uYaQNOV"
      },
      "source": [
        "df.loc[:,'temp_X1'] = df['X1'].map(freq)"
      ],
      "execution_count": 23,
      "outputs": []
    },
    {
      "cell_type": "code",
      "metadata": {
        "colab": {
          "base_uri": "https://localhost:8080/",
          "height": 204
        },
        "id": "1Cw-bxLZRham",
        "outputId": "4f7fa435-8523-4a13-c44c-343199988a77"
      },
      "source": [
        "df.head()"
      ],
      "execution_count": 24,
      "outputs": [
        {
          "output_type": "execute_result",
          "data": {
            "text/html": [
              "<div>\n",
              "<style scoped>\n",
              "    .dataframe tbody tr th:only-of-type {\n",
              "        vertical-align: middle;\n",
              "    }\n",
              "\n",
              "    .dataframe tbody tr th {\n",
              "        vertical-align: top;\n",
              "    }\n",
              "\n",
              "    .dataframe thead th {\n",
              "        text-align: right;\n",
              "    }\n",
              "</style>\n",
              "<table border=\"1\" class=\"dataframe\">\n",
              "  <thead>\n",
              "    <tr style=\"text-align: right;\">\n",
              "      <th></th>\n",
              "      <th>X1</th>\n",
              "      <th>X2</th>\n",
              "      <th>temp_X1</th>\n",
              "    </tr>\n",
              "  </thead>\n",
              "  <tbody>\n",
              "    <tr>\n",
              "      <th>0</th>\n",
              "      <td>v</td>\n",
              "      <td>6</td>\n",
              "      <td>0.096935</td>\n",
              "    </tr>\n",
              "    <tr>\n",
              "      <th>1</th>\n",
              "      <td>t</td>\n",
              "      <td>4</td>\n",
              "      <td>0.007365</td>\n",
              "    </tr>\n",
              "    <tr>\n",
              "      <th>2</th>\n",
              "      <td>w</td>\n",
              "      <td>137</td>\n",
              "      <td>0.012354</td>\n",
              "    </tr>\n",
              "    <tr>\n",
              "      <th>3</th>\n",
              "      <td>t</td>\n",
              "      <td>137</td>\n",
              "      <td>0.007365</td>\n",
              "    </tr>\n",
              "    <tr>\n",
              "      <th>4</th>\n",
              "      <td>v</td>\n",
              "      <td>137</td>\n",
              "      <td>0.096935</td>\n",
              "    </tr>\n",
              "  </tbody>\n",
              "</table>\n",
              "</div>"
            ],
            "text/plain": [
              "  X1   X2   temp_X1\n",
              "0  v    6  0.096935\n",
              "1  t    4  0.007365\n",
              "2  w  137  0.012354\n",
              "3  t  137  0.007365\n",
              "4  v  137  0.096935"
            ]
          },
          "metadata": {
            "tags": []
          },
          "execution_count": 24
        }
      ]
    },
    {
      "cell_type": "code",
      "metadata": {
        "id": "CcM-LQiIRijs"
      },
      "source": [
        ""
      ],
      "execution_count": null,
      "outputs": []
    }
  ]
}